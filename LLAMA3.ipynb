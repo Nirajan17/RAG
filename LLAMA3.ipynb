{
 "cells": [
  {
   "cell_type": "code",
   "execution_count": 1,
   "metadata": {},
   "outputs": [],
   "source": [
    "MODEL = \"llama3.2\""
   ]
  },
  {
   "cell_type": "code",
   "execution_count": 2,
   "metadata": {},
   "outputs": [
    {
     "name": "stdout",
     "output_type": "stream",
     "text": [
      "2.10.6\n"
     ]
    }
   ],
   "source": [
    "import pydantic\n",
    "print(pydantic.__version__)\n"
   ]
  },
  {
   "cell_type": "code",
   "execution_count": 11,
   "metadata": {},
   "outputs": [],
   "source": [
    "from langchain_community.llms import Ollama\n",
    "from langchain_community.embeddings import OllamaEmbeddings\n",
    "\n",
    "model = Ollama(model=MODEL)\n",
    "embeddings = OllamaEmbeddings(model=MODEL)\n",
    "# model.invoke(\"where are you prividing your response from\")\n"
   ]
  },
  {
   "cell_type": "code",
   "execution_count": 4,
   "metadata": {},
   "outputs": [],
   "source": [
    "from langchain_community.document_loaders import PyPDFLoader\n",
    "\n",
    "loader = PyPDFLoader(\"./paper-crash-detection.pdf\")\n",
    "pages = loader.load_and_split()"
   ]
  },
  {
   "cell_type": "code",
   "execution_count": 5,
   "metadata": {},
   "outputs": [
    {
     "data": {
      "text/plain": [
       "[Document(metadata={'producer': 'Microsoft® Word 2019', 'creator': 'Microsoft® Word 2019', 'creationdate': '2024-04-30T11:04:15+05:30', 'author': 'Microsoft account', 'moddate': '2024-04-30T11:04:15+05:30', 'source': './paper-crash-detection.pdf', 'total_pages': 13, 'page': 0, 'page_label': '1'}, page_content=\"Journal of IoT in Social, Mobile, Analytics, and Cloud (ISSN: 2582-1369)  \\nwww.irojournals.com/iroismac/    \\nJournal of IoT in Social, Mobile, Analytics, and Cloud, March 2024, Volume 6, Issue 1, Pages 54-66 54 \\nDOI: https://doi.org/10.36548/jismac.2024.1.005 \\nReceived: 05.03.2024, received in revised form: 06.04.2024, accepted: 18.04.2024, published: 30.04.2024 \\n© 2024 Inventive Research Organization. This is an open access article under the Creative Commons Attribution-NonCommercial International (CC BY-NC 4.0) License \\nDrowsiness and Crash Detection Mobile \\nApplication for Vehicle’s Safety \\nNabaraj Subedi1, Nirajan Paudel2, Manish Chhetri3, Sudarshan \\nAcharya4, Nabin Lamichhane5 \\nElectronics and Computer Department, Paschimanchal Campus, TU, Pokhara, Nepal  \\nE-mail: 1subedinabaraj46@gmail.com, 2nirajanpaudel33@gmail.com, 3hsinam12man34@gmail.com, \\n4avilashisudarshan@gmail.com, 5babunabin@gmail.com \\nAbstract \\nDetecting road accidents promptly is crucial for minimizing casualties and property \\ndamage worldwide. The proposed system, comprising hardware and a mobile application, \\nautomatically identifies and reports accidents to emergency services. It also employs a  facial \\nrecognition system to detect driver drowsiness, enhancing accident prevention measures. By \\nleveraging sensor technologies, cellular networks, and advanced detection algorithms, the \\nproposed system analyzes data from accelerometers, Global System fo r Mobile \\nCommunication (GSM), and Global Positioning System (GPS) sensors. Originally designed \\nfor vehicles, it can be easily adapted for deployment in various settings such as factories and \\nconstruction sites with minor adjustments. The system continuously monitors the driver's facial \\nexpressions and activities using sensors. When drowsiness is detected, it activates a buzzer, \\nand in the event of a crash, it alerts the driver to prevent false alarms while simultaneously \\nnotifying the rescue center if a genuine crash has occurred. This integrated approach enhances \\nsafety and optimizes emergency response efforts. The Arduino microcontroller, equipped with \\nan accelerometer, identifies sudden changes in motion like acceleration and rotation to assess \\nimpacts against predefined thresholds. Furthermore, GPS functionality accurately determines \\nthe vehicle's location at the time of the accident, while GSM enables seamless communication \\nwith rescue centers through notifications. \\nKeywords: Accelerometer, Arduino, Crash Detection, Drowsiness, GPS, GSM\"),\n",
       " Document(metadata={'producer': 'Microsoft® Word 2019', 'creator': 'Microsoft® Word 2019', 'creationdate': '2024-04-30T11:04:15+05:30', 'author': 'Microsoft account', 'moddate': '2024-04-30T11:04:15+05:30', 'source': './paper-crash-detection.pdf', 'total_pages': 13, 'page': 1, 'page_label': '2'}, page_content=\"Nabaraj Subedi, Nirajan Paudel, Manish Chhetri, Sudarshan Acharya, Nabin Lamichhane  \\nJournal of IoT in Social, Mobile, Analytics, and Cloud, March 2024, Volume 6, Issue 1 55 \\n Introduction \\nThe rapid advancement of modern technology has revolutionized our daily lives, \\noffering unprecedented levels of convenience and comfort compared to previous eras. \\nHowever, as the frequency of road accidents continues to rise, there is an urgent need to \\nprioritize the safety of human lives and property. This necessitates the development and \\nimplementation of advanced safety measures aimed at both preventing accidents and \\nfacilitating efficient rescue operations in the event of an incident [1],[2]. Central to these efforts \\nare drowsiness detection [3] and crash detection systems[5],[6], which play a crucial role in \\nmonitoring drivers for signs of fatigue through continuous facial landmark scanning and \\nanalysis, as well as promptly identifying and notifying rel evant parties about accidents or \\ncollisions[4],[7]. While traditionally deployed in vehicles, these systems are increasingly \\nfinding applications across various industries, including factories and construction sites. \\nThe evolution of crash detection systems can be traced back to the early 1970s, initially \\nrelying on accelerometers to detect sudden changes in vehicle motion. Over subsequent \\ndecades, advancements in sensor technology led to the integration of additional safety features \\nsuch as airbags and seatbelts in the 1980s, followed by the adoption of computerized systems \\nand software in the 1990s. This progression has significantly enhanced the sophistication of \\ncrash detection systems, providing drivers and emergen cy responders with comprehensive \\ninformation to effectively manage accidents [8],[9]. \\nToday, crash detection systems have become common place in modern vehicles, often \\nstandardized with instantaneous relay capabilities to emergency response centers [10],[11]. The \\nalarming statistics surrounding road accidents, coupled with the potential to mitigate their \\nimpact, have spurred extensive research and development efforts in this field. Our motivation \\nfor advancing these systems is rooted in our commitment to enhancing safety by monitoring \\ndriver’s drowsiness and autonomously notifying both drivers and emergency response centers \\nin the event of a crash. \\nThe primary objectives of this research work are as follows: \\n1. Implement real -time monitoring of drivers' location and facial expressions to \\nproactively prevent accidents. \\n2. Develop a robust crash detection system capable of accurately and promptly \\nidentifying incidents and alerting relevant parties.\"),\n",
       " Document(metadata={'producer': 'Microsoft® Word 2019', 'creator': 'Microsoft® Word 2019', 'creationdate': '2024-04-30T11:04:15+05:30', 'author': 'Microsoft account', 'moddate': '2024-04-30T11:04:15+05:30', 'source': './paper-crash-detection.pdf', 'total_pages': 13, 'page': 2, 'page_label': '3'}, page_content='Drowsiness and Crash Detection Mobile Application for Vehicle’s Safety  \\nISSN: 2582-1369  56 \\n Related Works \\nRecent advancements in accident prevention and safety assistance have been fueled by \\nthe integration of traditional methodologies and IoT -based approaches. Bhatti et al. [1], \\npresents a noteworthy study introducing an innovative Internet of Things -enabled accident \\ndetection and reporting system designed specifically for smart city environments. Utilizing \\nsmartphones, this system gathers data on multiple parameters including speed, gravitational \\nforce, pressure, sound, and location. This data is then analyze d to detect road incidents and \\nactivate suitable responses [12,15]. Through simulations and comparison with real -world \\naccident data, the effectiveness of this approach is demonstrated, showing promising levels of \\naccuracy and efficiency [1]. \\nIn a similar vein, Uma and Eswari proposed an accident prevention and safety \\nassistance system utilizing IoT and machine learning techniques [2]. This study explores the \\npotential of integrating IoT devices with machine learning algorithms to enhance accid ent \\ndetection and response capabilities. By analyzing sensor data from vehicles and roadside \\ninfrastructure, the system can identify potential hazards and alert drivers or emergency services \\naccordingly, thus mitigating the risk of accidents [2],[13],[14].= \\nFurthermore, efforts have been made to develop hardware-based solutions for accident \\ndetection and prevention. For instance, Prabha et al. [4], presents an automatic vehicle accident \\ndetection and messaging system that utilizes GSM and GPS modems [15]. This system enables \\nreal-time monitoring of vehicle movements and can automatically send distress signals in the \\nevent of an accident, facilitating prompt emergency response [3]. Similarly, Mahamud et al. \\n[11] proposed an Arduino -based accident prevention and  identification system for vehicles, \\nwhich integrates various sensors to detect abnormal vehicle behavior indicative of potential \\naccidents. \\nAdditionally, Yee and Lau explored the development of a mobile vehicle crash \\ndetection system [7], which aims to promptly identify and report accidents using smartphone \\ntechnology, thus expediting emergency response and potentially reducing accident -related \\nfatalities and injuries. \\nThese studies highlight the diverse approaches and technologies being employed to \\nenhance road safety and prevent accidents. By harnessing the capabilities of IoT, machine \\nlearning, and hardware devices, researchers are striving to develop comprehensive systems that \\ncan effectively detect, mitigate, and respond to potential hazards on the road [16],[17].'),\n",
       " Document(metadata={'producer': 'Microsoft® Word 2019', 'creator': 'Microsoft® Word 2019', 'creationdate': '2024-04-30T11:04:15+05:30', 'author': 'Microsoft account', 'moddate': '2024-04-30T11:04:15+05:30', 'source': './paper-crash-detection.pdf', 'total_pages': 13, 'page': 3, 'page_label': '4'}, page_content=\"Nabaraj Subedi, Nirajan Paudel, Manish Chhetri, Sudarshan Acharya, Nabin Lamichhane  \\nJournal of IoT in Social, Mobile, Analytics, and Cloud, March 2024, Volume 6, Issue 1 57 \\nHowever, challenges such as scalability, cost -effectiveness, and system accuracy still need to \\nbe addressed to realize the full potential of these solutions. \\n Proposed Work \\n3.1 System Architecture and Approach \\nThe system comprises sensors like accelerometer MPU6050 to measure the change in speed \\nand GPS NEO 6M to gather the location information of vehicles as shown in Fig ure 1. It has a GSM \\nmodule SIM 800L which facilitates the communication between the on -vehicle device and rescue \\ncenter. Arduino is used as a central controller.  \\n \\n \\n                                               \\n \\n \\n \\n \\n \\nFigure 1. System Architecture \\n3.2 Methodology \\nThe system primarily consists of two segments designed to detect crashes and drowsiness for \\nwhich the activity diagram is shown in Figure 2. \\na. Drowsiness Detection \\nFor detection conditions like yawning, not yawning, eye closed, eye opening, we \\ntrained multi -class classification CNN model on Kaggle dataset and tested for similar \\nscenarios. And A mobile application continually scans the driver's face to detect signs of  \\ndrowsiness. Upon detecting drowsiness, the app alerts the driver with a buzzer sound on their \\nmobile phone.\"),\n",
       " Document(metadata={'producer': 'Microsoft® Word 2019', 'creator': 'Microsoft® Word 2019', 'creationdate': '2024-04-30T11:04:15+05:30', 'author': 'Microsoft account', 'moddate': '2024-04-30T11:04:15+05:30', 'source': './paper-crash-detection.pdf', 'total_pages': 13, 'page': 4, 'page_label': '5'}, page_content='Drowsiness and Crash Detection Mobile Application for Vehicle’s Safety  \\nISSN: 2582-1369  58 \\n                   \\n Figure 2. Activity Diagram of the Proposed System \\nb. Crash Detection \\nThe data acquisition unit captures sensor data encompassing acceleration, angular \\nvelocity, and GPS coordinates, which is then analyzed by the crash detection algorithm. \\nThrough rigorous testing, threshold values for various crash parameters are establishe d to \\ndifferentiate between normal driving conditions and crash events. The algorithm compares \\nsensor data against these thresholds to detect crash events accurately. In case of a crash, the \\ncommunication module is activated to dispatch crash notifications,  facilitating prompt \\nemergency response as in Figure 3. Pertinent parties, upon receiving notifications, can initiate \\nrequisite emergency protocols, including dispatching emergency services to the crash site.'),\n",
       " Document(metadata={'producer': 'Microsoft® Word 2019', 'creator': 'Microsoft® Word 2019', 'creationdate': '2024-04-30T11:04:15+05:30', 'author': 'Microsoft account', 'moddate': '2024-04-30T11:04:15+05:30', 'source': './paper-crash-detection.pdf', 'total_pages': 13, 'page': 5, 'page_label': '6'}, page_content=\"Nabaraj Subedi, Nirajan Paudel, Manish Chhetri, Sudarshan Acharya, Nabin Lamichhane  \\nJournal of IoT in Social, Mobile, Analytics, and Cloud, March 2024, Volume 6, Issue 1 59 \\n \\nFigure 3. Crash Detection Flow Chart \\n3.3 Components Used \\na.   Arduino UNO  \\nThe Arduino Uno, built around the ATmega328P microcontroller, receives velocity and \\ntilt values from the accelerometer [7]. It verifies if these values meet predefined conditions \\nbefore proceeding with further operations. \\nb.   MPU 6050 \\nIn this study, a 10 DOF IMU Sensor, capable of measuring 3 -axis accelerometer data, \\nis utilized to detect changes in a vehicle's orientation, indicative of potential accidents. To \\ncalculate velocity and prevent accidents, the acceleration -time relationship is  leveraged, \\nenabling accurate velocity estimation based on acceleration values over time\"),\n",
       " Document(metadata={'producer': 'Microsoft® Word 2019', 'creator': 'Microsoft® Word 2019', 'creationdate': '2024-04-30T11:04:15+05:30', 'author': 'Microsoft account', 'moddate': '2024-04-30T11:04:15+05:30', 'source': './paper-crash-detection.pdf', 'total_pages': 13, 'page': 6, 'page_label': '7'}, page_content=\"Drowsiness and Crash Detection Mobile Application for Vehicle’s Safety  \\nISSN: 2582-1369  60 \\nc.   SIM 800L  \\nThis research work utilizes GSM technology through the SIM900A GSM module to \\nsend SMS notifications in case of predefined events, such as exceeding velocity limits or \\ndetecting vehicle tilt indicating an accident. These notifications include vital informat ion like \\nlocation and vehicle speed as shown in Figure 4, ensuring prompt response to critical situations. \\n \\n \\n \\n \\n \\n \\n \\n  Figure 4. Message Screenshot \\nd.    GPS Module (NEO 6M) \\nThe GPS module in this research work constantly delivers real -time latitude and \\nlongitude coordinates (as shown in Fig ure 5) to the Arduino, which monitors the vehicle's \\nlocation. By setting a predefined velocity range, the Arduino compares actual velocity with the \\nreceived coordinates, facilitating real-time tracking and monitoring of the vehicle's speed and \\nlocation.\"),\n",
       " Document(metadata={'producer': 'Microsoft® Word 2019', 'creator': 'Microsoft® Word 2019', 'creationdate': '2024-04-30T11:04:15+05:30', 'author': 'Microsoft account', 'moddate': '2024-04-30T11:04:15+05:30', 'source': './paper-crash-detection.pdf', 'total_pages': 13, 'page': 7, 'page_label': '8'}, page_content=\"Nabaraj Subedi, Nirajan Paudel, Manish Chhetri, Sudarshan Acharya, Nabin Lamichhane  \\nJournal of IoT in Social, Mobile, Analytics, and Cloud, March 2024, Volume 6, Issue 1 61 \\n     Figure 5. Sample GPS Data \\ne.     LM2596 DC-DC Buck Converter Step-Down Power  \\nThe LM2596 DC-DC Buck Converter is utilized in crash detection systems to regulate \\nand step down the voltage from a power source, ensuring stable and appropriate voltage levels \\nfor the electronic components involved in the system. It helps maintain the rel iability and \\nefficiency of the crash detection system. \\n Result and Discussion \\nThe crash detection system was implemented and subjected to testing, employing a \\ncombination of hardware and software as shown in Fig ure 6 and Fig ure 7. The primary aim \\nwas to accurately identify various crash events and promptly notify for emergency response. \\nIn this section, we outline the results of the system's performance evaluation and discuss their \\nimplications. \\n \\n           Figure 6. Final Prototype of Crash Detection System\"),\n",
       " Document(metadata={'producer': 'Microsoft® Word 2019', 'creator': 'Microsoft® Word 2019', 'creationdate': '2024-04-30T11:04:15+05:30', 'author': 'Microsoft account', 'moddate': '2024-04-30T11:04:15+05:30', 'source': './paper-crash-detection.pdf', 'total_pages': 13, 'page': 8, 'page_label': '9'}, page_content=\"Drowsiness and Crash Detection Mobile Application for Vehicle’s Safety  \\nISSN: 2582-1369  62 \\n \\n            Figure 7. Mobile Application Snapshots \\nThe system's performance was assessed through a series of controlled experiments, \\nspecifically focusing on frontal collision scenarios. These evaluations gauged the system's \\nresponse time and reliability as shown in Figure  8 and Figure 9. \\nFigure 8. Accuracy and Loss Curves \\n \\nFigure 9. System Performance Report \\n \\n Figure 10 . Facial Drowsiness Detection\"),\n",
       " Document(metadata={'producer': 'Microsoft® Word 2019', 'creator': 'Microsoft® Word 2019', 'creationdate': '2024-04-30T11:04:15+05:30', 'author': 'Microsoft account', 'moddate': '2024-04-30T11:04:15+05:30', 'source': './paper-crash-detection.pdf', 'total_pages': 13, 'page': 9, 'page_label': '10'}, page_content='Nabaraj Subedi, Nirajan Paudel, Manish Chhetri, Sudarshan Acharya, Nabin Lamichhane  \\nJournal of IoT in Social, Mobile, Analytics, and Cloud, March 2024, Volume 6, Issue 1 63 \\n \\nThe facial detection system accurately identifies yawning and eye conditions as in \\nFigure 10, and the crash false notification triggering mechanism responds as depicted in Figure \\n7. \\n Conclusion \\nThe results obtained from the drowsiness and crash detection system demonstrate its \\neffectiveness in improving road safety. By detecting driver drowsiness and accurately \\nidentifying crash events while promptly notifying relevant parties, the system facilit ates swift \\nemergency response and aids in preventing potential accidents by monitoring the driver\\'s facial \\ncondition. Moreover, it promotes seamless coordination between vehicles and rescue center. \\nThe system\\'s accuracy rate and response time underscore its potential to enhance the efficiency \\nof emergency services and potentially reduce the severity of injuries in crash incidents. \\nNevertheless, it is important to acknowledge certain challenges and limitations. \\nEnvironmental factors, such as adverse weather conditions or heavy traffic congestion, may \\nintroduce additional complexities in crash detection. Further research efforts, such  as \\nintegrating both crash detection and drowsiness detection into a single device, are necessary to \\nenhance the system\\'s performance in such challenging scenarios. \\nReferences \\n[1] F. Bhatti, M. A. Shah, C. Maple, and S. U. Islam, \"A Novel Internet of Things-Enabled \\nAccident Detection and Reporting System for Smart City Environments,\" Sensors, vol. \\n19, no. 9, p. 2071, May 2019, doi: 10.3390/s19092071. \\n[2] S. Uma and R. Eswari, \"Accident prevention and safety assistance using IOT and \\nmachine learning,\" J. Reliab. Intell. Environ., vol. 8, no. 2, pp. 79–103, Jun. 2022, doi: \\n10.1007/s40860-021-00136-3. \\n[3] Pokhrel, Anisha, Laxmi Mahara, Monika Upadhyaya, Shikshya Shrestha, and Badri Raj \\nLamichhane. \"Drowsy Driver Detection with Crash Alert Mechanism using Arduino \\nand Image Processing.\" Journal of Soft Computing Paradigm 5, no. 2 (2023): 194-217. \\n[4] C. Prabha, R. Sunitha, and R. Anitha, \"Automatic Vehicle Accident Detection and \\nMessaging System Using GSM and GPS Modem,\" Int. J. Adv. Res. Electr. Electron.'),\n",
       " Document(metadata={'producer': 'Microsoft® Word 2019', 'creator': 'Microsoft® Word 2019', 'creationdate': '2024-04-30T11:04:15+05:30', 'author': 'Microsoft account', 'moddate': '2024-04-30T11:04:15+05:30', 'source': './paper-crash-detection.pdf', 'total_pages': 13, 'page': 10, 'page_label': '11'}, page_content='Drowsiness and Crash Detection Mobile Application for Vehicle’s Safety  \\nISSN: 2582-1369  64 \\nInstrum. Eng., vol. 3, no. 7, pp. 10723 –10727, Jul. 2014, doi: \\n10.15662/ijareeie.2014.0307062. \\n[5] Kathiravan, M., M. Pavan Kumar Reddy, Muthukumaran Malarvel, A. Amrutha, P. \\nHarshavardhan Reddy, and S. Kavitha. \"IoT -based Vehicle Surveillance and Crash \\nDetection System.\" In 2022 International Conference on Applied Artificial Intelligence \\nand Computing (ICAAIC), pp. 1523-1529. IEEE, 2022. \\n[6] Kumar, Nikhil, Debopam Acharya, and Divya Lohani. \"An IoT-based vehicle accident \\ndetection and classification system using sensor fusion.\" IEEE Internet of Things \\nJournal 8, no. 2 (2020): 869-880. \\n[7] Yee, Tey Han, and Phooi Yee Lau. \"Mobile vehicle crash detection system.\" In 2018 \\nInternational Workshop on Advanced Image Technology (IWAIT), pp. 1 -4. IEEE, \\n2018. \\n[8] Trung, Ninh Bui, Huy Luong Duc, and Hung Nguyen Viet. \"Building an Automobile \\nAccident Detection and Messaging System Using Arduino.\" In Intelligent Systems and \\nNetworks: Selected Articles from ICISN 2021, Vietnam, pp. 280 -286. Springer \\nSingapore, 2021. \\n[9] Supriya, M. S., Sahana P. Shankar, Himanshu Jain BJ, Lisha L. Narayana, and Nikhita \\nGumalla. \"Car crash detection system using machine learning and deep learning \\nalgorithm.\" In 2022 IEEE International Conference on Data Science and Information \\nSystem (ICDSIS), pp. 1-6. IEEE, 2022. \\n[10] Anuar, Muhammad Zahirulhaq Zainol, Nor Aira Zambri, Norhafiz Bin Salim, Sim Sy \\nYi, and Omar Abu Hassan. \"Automated bicycle crash detection system.\" In AIP \\nConference Proceedings, vol. 2564, no. 1. AIP Publishing, 2023. \\n[11] Mahamud, Md Sadad, Maliha Monsur, and Md Saniat Rahman Zishan. \"An arduino \\nbased accident prevention and identification system for vehicles.\" In 2017 IEEE Region \\n10 Humanitarian Technology Conference (R10-HTC), pp. 555-559. IEEE, 2017. \\n[12] Yellamma, Pachipala, N. S. N. S. P. Chandra, Puli Sukhesh, Puligadda Shrunith, and \\nSunkesula Siva Teja. \"Arduino based vehicle accident alert system using GPS, GSM \\nand MEMS accelerometer.\" In 2021 5th International Conference on Computing \\nMethodologies and Communication (ICCMC), pp. 486-491. IEEE, 2021.'),\n",
       " Document(metadata={'producer': 'Microsoft® Word 2019', 'creator': 'Microsoft® Word 2019', 'creationdate': '2024-04-30T11:04:15+05:30', 'author': 'Microsoft account', 'moddate': '2024-04-30T11:04:15+05:30', 'source': './paper-crash-detection.pdf', 'total_pages': 13, 'page': 11, 'page_label': '12'}, page_content='Nabaraj Subedi, Nirajan Paudel, Manish Chhetri, Sudarshan Acharya, Nabin Lamichhane  \\nJournal of IoT in Social, Mobile, Analytics, and Cloud, March 2024, Volume 6, Issue 1 65 \\n[13] Nasr, Elie, Elie Kfoury, and David Khoury. \"An IoT approach to vehicle accident \\ndetection, reporting, and navigation.\" In 2016 IEEE International Multidisciplinary \\nConference on Engineering Technology (IMCET), pp. 231-236. IEEE, 2016. \\n[14] White, Jules, Chris Thompson, Hamilton Turner, Brian Dougherty, and Douglas C. \\nSchmidt. \"Wreckwatch: Automatic traffic accident detection and notification with \\nsmartphones.\" Mobile Networks and Applications 16 (2011): 285-303. \\n[15] Zaldivar, Jorge, Carlos T. Calafate, Juan Carlos Cano, and Pietro Manzoni. \"Providing \\naccident detection in vehicular networks through OBD -II devices and Android -based \\nsmartphones.\" In 2011 IEEE 36th Conference on Local Computer Networks, pp. 813 -\\n819. IEEE, 2011. \\n[16] Amin, Md Syedul, Jubayer Jalil, and Mamun Bin Ibne Reaz. \"Accident detection and \\nreporting system using GPS, GPRS and GSM technology.\" In 2012 International \\nConference on Informatics, Electronics & Vision (ICIEV), pp. 640-643. IEEE, 2012. \\n[17] Patel, K. \"Utilizing the emergence of android smartphones for public welfare by \\nproviding advance accident detection and remedy by 108 ambulances.\" International \\nJournal of Engineering Research & Technology (IJERT) 2, no. 9 (2013): 1340-1342. \\nAuthor’s biography \\nNabaraj Subedi  - I have currently completed a Bachelor in Electronics, \\nCommunication, and Information engineering from IOE,  Paschimanchal \\nCampus, with a keen interest in conducting research specifically in the \\napplication of deep learning techniques. \\n \\nNirajan Paudel  - I am an engineering student pursuing electronics, \\ncommunication and information engineering in 2019 in Pashchimanchal \\nCampus, IOE, TU and expect to graduate in 2024, July. I have a deep interest in \\nthe field of AI and machine learning.'),\n",
       " Document(metadata={'producer': 'Microsoft® Word 2019', 'creator': 'Microsoft® Word 2019', 'creationdate': '2024-04-30T11:04:15+05:30', 'author': 'Microsoft account', 'moddate': '2024-04-30T11:04:15+05:30', 'source': './paper-crash-detection.pdf', 'total_pages': 13, 'page': 12, 'page_label': '13'}, page_content='Drowsiness and Crash Detection Mobile Application for Vehicle’s Safety  \\nISSN: 2582-1369  66 \\nManish Chhetri  - I am an engineering student pursuing Electronics, \\ncommunication and Information engineering from 2019 AD and expect to \\ngraduate in 2024 AD. Throughout the studies, I have developed passion \\nin the field of AI and Machine Learning. \\n \\nSudarshan Acharya, I am an engineering student pursuing Electronics, \\ncommunication and Information engineering from 2019 AD and expect \\nto graduate in 2024 AD. Throughout the studies, I have developed passion \\nin the field of Web Development and Machine Learning. \\n \\n \\nNabin Lamichhhane, Deputy Head of Department of Electronics and \\nComputer Engineering, IOE, TU, Nepal')]"
      ]
     },
     "execution_count": 5,
     "metadata": {},
     "output_type": "execute_result"
    }
   ],
   "source": [
    "pages"
   ]
  },
  {
   "cell_type": "code",
   "execution_count": 22,
   "metadata": {},
   "outputs": [
    {
     "name": "stdout",
     "output_type": "stream",
     "text": [
      "\n",
      "Answer the questions based on the context below. If you cannot answer the question given, just reply I don't know\n",
      "\n",
      "Context: \n",
      "Question: \n",
      "\n",
      "\n"
     ]
    }
   ],
   "source": [
    "from langchain.prompts import PromptTemplate\n",
    "\n",
    "template = \"\"\"\n",
    "Answer the questions based on the context below. If you cannot answer the question given, just reply I don't know\n",
    "\n",
    "Context: {context}\n",
    "Question: {question}\n",
    "\n",
    "\"\"\"\n",
    "\n",
    "prompt = PromptTemplate.from_template(template)\n",
    "print(prompt.format(context=\"\", question=\"\"))"
   ]
  },
  {
   "cell_type": "code",
   "execution_count": 23,
   "metadata": {},
   "outputs": [],
   "source": [
    "from langchain_core.output_parsers import StrOutputParser\n",
    "\n",
    "parser = StrOutputParser()"
   ]
  },
  {
   "cell_type": "code",
   "execution_count": 24,
   "metadata": {},
   "outputs": [],
   "source": [
    "chain = prompt | model | parser"
   ]
  },
  {
   "cell_type": "code",
   "execution_count": 25,
   "metadata": {},
   "outputs": [
    {
     "data": {
      "text/plain": [
       "'The country name in Nepal is \"Nepal\".'"
      ]
     },
     "execution_count": 25,
     "metadata": {},
     "output_type": "execute_result"
    }
   ],
   "source": [
    "chain.invoke(\n",
    "    {\n",
    "        \"context\":\"nepal\", \n",
    "        \"question\":\"what is the country name\"\n",
    "    }\n",
    ")"
   ]
  },
  {
   "cell_type": "code",
   "execution_count": 26,
   "metadata": {},
   "outputs": [],
   "source": [
    "from langchain_community.vectorstores import DocArrayInMemorySearch\n",
    "\n",
    "vectorstore = DocArrayInMemorySearch.from_documents(\n",
    "    pages, \n",
    "    embeddings\n",
    ")"
   ]
  },
  {
   "cell_type": "code",
   "execution_count": 27,
   "metadata": {},
   "outputs": [
    {
     "data": {
      "text/plain": [
       "<langchain_community.vectorstores.docarray.in_memory.DocArrayInMemorySearch at 0x11f06b610>"
      ]
     },
     "execution_count": 27,
     "metadata": {},
     "output_type": "execute_result"
    }
   ],
   "source": [
    "vectorstore"
   ]
  },
  {
   "cell_type": "code",
   "execution_count": 28,
   "metadata": {},
   "outputs": [],
   "source": [
    "retreiver = vectorstore.as_retriever()"
   ]
  },
  {
   "cell_type": "code",
   "execution_count": 29,
   "metadata": {},
   "outputs": [
    {
     "data": {
      "text/plain": [
       "[Document(metadata={'producer': 'Microsoft® Word 2019', 'creator': 'Microsoft® Word 2019', 'creationdate': '2024-04-30T11:04:15+05:30', 'author': 'Microsoft account', 'moddate': '2024-04-30T11:04:15+05:30', 'source': './paper-crash-detection.pdf', 'total_pages': 13, 'page': 5, 'page_label': '6'}, page_content=\"Nabaraj Subedi, Nirajan Paudel, Manish Chhetri, Sudarshan Acharya, Nabin Lamichhane  \\nJournal of IoT in Social, Mobile, Analytics, and Cloud, March 2024, Volume 6, Issue 1 59 \\n \\nFigure 3. Crash Detection Flow Chart \\n3.3 Components Used \\na.   Arduino UNO  \\nThe Arduino Uno, built around the ATmega328P microcontroller, receives velocity and \\ntilt values from the accelerometer [7]. It verifies if these values meet predefined conditions \\nbefore proceeding with further operations. \\nb.   MPU 6050 \\nIn this study, a 10 DOF IMU Sensor, capable of measuring 3 -axis accelerometer data, \\nis utilized to detect changes in a vehicle's orientation, indicative of potential accidents. To \\ncalculate velocity and prevent accidents, the acceleration -time relationship is  leveraged, \\nenabling accurate velocity estimation based on acceleration values over time\"),\n",
       " Document(metadata={'producer': 'Microsoft® Word 2019', 'creator': 'Microsoft® Word 2019', 'creationdate': '2024-04-30T11:04:15+05:30', 'author': 'Microsoft account', 'moddate': '2024-04-30T11:04:15+05:30', 'source': './paper-crash-detection.pdf', 'total_pages': 13, 'page': 0, 'page_label': '1'}, page_content=\"Journal of IoT in Social, Mobile, Analytics, and Cloud (ISSN: 2582-1369)  \\nwww.irojournals.com/iroismac/    \\nJournal of IoT in Social, Mobile, Analytics, and Cloud, March 2024, Volume 6, Issue 1, Pages 54-66 54 \\nDOI: https://doi.org/10.36548/jismac.2024.1.005 \\nReceived: 05.03.2024, received in revised form: 06.04.2024, accepted: 18.04.2024, published: 30.04.2024 \\n© 2024 Inventive Research Organization. This is an open access article under the Creative Commons Attribution-NonCommercial International (CC BY-NC 4.0) License \\nDrowsiness and Crash Detection Mobile \\nApplication for Vehicle’s Safety \\nNabaraj Subedi1, Nirajan Paudel2, Manish Chhetri3, Sudarshan \\nAcharya4, Nabin Lamichhane5 \\nElectronics and Computer Department, Paschimanchal Campus, TU, Pokhara, Nepal  \\nE-mail: 1subedinabaraj46@gmail.com, 2nirajanpaudel33@gmail.com, 3hsinam12man34@gmail.com, \\n4avilashisudarshan@gmail.com, 5babunabin@gmail.com \\nAbstract \\nDetecting road accidents promptly is crucial for minimizing casualties and property \\ndamage worldwide. The proposed system, comprising hardware and a mobile application, \\nautomatically identifies and reports accidents to emergency services. It also employs a  facial \\nrecognition system to detect driver drowsiness, enhancing accident prevention measures. By \\nleveraging sensor technologies, cellular networks, and advanced detection algorithms, the \\nproposed system analyzes data from accelerometers, Global System fo r Mobile \\nCommunication (GSM), and Global Positioning System (GPS) sensors. Originally designed \\nfor vehicles, it can be easily adapted for deployment in various settings such as factories and \\nconstruction sites with minor adjustments. The system continuously monitors the driver's facial \\nexpressions and activities using sensors. When drowsiness is detected, it activates a buzzer, \\nand in the event of a crash, it alerts the driver to prevent false alarms while simultaneously \\nnotifying the rescue center if a genuine crash has occurred. This integrated approach enhances \\nsafety and optimizes emergency response efforts. The Arduino microcontroller, equipped with \\nan accelerometer, identifies sudden changes in motion like acceleration and rotation to assess \\nimpacts against predefined thresholds. Furthermore, GPS functionality accurately determines \\nthe vehicle's location at the time of the accident, while GSM enables seamless communication \\nwith rescue centers through notifications. \\nKeywords: Accelerometer, Arduino, Crash Detection, Drowsiness, GPS, GSM\"),\n",
       " Document(metadata={'producer': 'Microsoft® Word 2019', 'creator': 'Microsoft® Word 2019', 'creationdate': '2024-04-30T11:04:15+05:30', 'author': 'Microsoft account', 'moddate': '2024-04-30T11:04:15+05:30', 'source': './paper-crash-detection.pdf', 'total_pages': 13, 'page': 7, 'page_label': '8'}, page_content=\"Nabaraj Subedi, Nirajan Paudel, Manish Chhetri, Sudarshan Acharya, Nabin Lamichhane  \\nJournal of IoT in Social, Mobile, Analytics, and Cloud, March 2024, Volume 6, Issue 1 61 \\n     Figure 5. Sample GPS Data \\ne.     LM2596 DC-DC Buck Converter Step-Down Power  \\nThe LM2596 DC-DC Buck Converter is utilized in crash detection systems to regulate \\nand step down the voltage from a power source, ensuring stable and appropriate voltage levels \\nfor the electronic components involved in the system. It helps maintain the rel iability and \\nefficiency of the crash detection system. \\n Result and Discussion \\nThe crash detection system was implemented and subjected to testing, employing a \\ncombination of hardware and software as shown in Fig ure 6 and Fig ure 7. The primary aim \\nwas to accurately identify various crash events and promptly notify for emergency response. \\nIn this section, we outline the results of the system's performance evaluation and discuss their \\nimplications. \\n \\n           Figure 6. Final Prototype of Crash Detection System\"),\n",
       " Document(metadata={'producer': 'Microsoft® Word 2019', 'creator': 'Microsoft® Word 2019', 'creationdate': '2024-04-30T11:04:15+05:30', 'author': 'Microsoft account', 'moddate': '2024-04-30T11:04:15+05:30', 'source': './paper-crash-detection.pdf', 'total_pages': 13, 'page': 12, 'page_label': '13'}, page_content='Drowsiness and Crash Detection Mobile Application for Vehicle’s Safety  \\nISSN: 2582-1369  66 \\nManish Chhetri  - I am an engineering student pursuing Electronics, \\ncommunication and Information engineering from 2019 AD and expect to \\ngraduate in 2024 AD. Throughout the studies, I have developed passion \\nin the field of AI and Machine Learning. \\n \\nSudarshan Acharya, I am an engineering student pursuing Electronics, \\ncommunication and Information engineering from 2019 AD and expect \\nto graduate in 2024 AD. Throughout the studies, I have developed passion \\nin the field of Web Development and Machine Learning. \\n \\n \\nNabin Lamichhhane, Deputy Head of Department of Electronics and \\nComputer Engineering, IOE, TU, Nepal')]"
      ]
     },
     "execution_count": 29,
     "metadata": {},
     "output_type": "execute_result"
    }
   ],
   "source": [
    "retreiver.invoke(\"GPS module\")"
   ]
  },
  {
   "cell_type": "code",
   "execution_count": 30,
   "metadata": {},
   "outputs": [],
   "source": [
    "from operator import itemgetter\n",
    "\n",
    "chain = (\n",
    "    {\n",
    "        \"context\": itemgetter(\"question\") | retreiver,\n",
    "        \"question\": itemgetter(\"question\")\n",
    "    }\n",
    "    | prompt\n",
    "    | model\n",
    "    | parser\n",
    ")"
   ]
  },
  {
   "cell_type": "code",
   "execution_count": 31,
   "metadata": {},
   "outputs": [
    {
     "data": {
      "text/plain": [
       "\"The PDF appears to be an academic paper or research document related to the development and implementation of an accident detection system for vehicles using IoT technology (Internet of Things). The system includes sensors such as accelerometers, GPS, and a GSM module to detect crashes and drowsiness in drivers. The paper discusses various aspects of the system's design, methodology, and potential challenges that need to be addressed.\""
      ]
     },
     "execution_count": 31,
     "metadata": {},
     "output_type": "execute_result"
    }
   ],
   "source": [
    "chain.invoke({\"question\":\"What is the pdf about?\"})"
   ]
  },
  {
   "cell_type": "code",
   "execution_count": null,
   "metadata": {},
   "outputs": [],
   "source": []
  }
 ],
 "metadata": {
  "kernelspec": {
   "display_name": "learn_crew",
   "language": "python",
   "name": "python3"
  },
  "language_info": {
   "codemirror_mode": {
    "name": "ipython",
    "version": 3
   },
   "file_extension": ".py",
   "mimetype": "text/x-python",
   "name": "python",
   "nbconvert_exporter": "python",
   "pygments_lexer": "ipython3",
   "version": "3.10.13"
  }
 },
 "nbformat": 4,
 "nbformat_minor": 2
}
