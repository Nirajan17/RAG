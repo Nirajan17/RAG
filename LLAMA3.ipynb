{
 "cells": [
  {
   "cell_type": "markdown",
   "metadata": {},
   "source": [
    "MODEL USED"
   ]
  },
  {
   "cell_type": "code",
   "execution_count": 1,
   "metadata": {},
   "outputs": [],
   "source": [
    "MODEL = \"llama3.2\""
   ]
  },
  {
   "cell_type": "code",
   "execution_count": 2,
   "metadata": {},
   "outputs": [
    {
     "name": "stdout",
     "output_type": "stream",
     "text": [
      "2.10.6\n"
     ]
    }
   ],
   "source": [
    "import pydantic\n",
    "print(pydantic.__version__)\n"
   ]
  },
  {
   "cell_type": "markdown",
   "metadata": {},
   "source": [
    "Initialization of model and Embeddings"
   ]
  },
  {
   "cell_type": "code",
   "execution_count": 11,
   "metadata": {},
   "outputs": [],
   "source": [
    "from langchain_community.llms import Ollama\n",
    "from langchain_community.embeddings import OllamaEmbeddings\n",
    "\n",
    "model = Ollama(model=MODEL)\n",
    "embeddings = OllamaEmbeddings(model=MODEL)\n",
    "# model.invoke(\"where are you prividing your response from\")\n"
   ]
  },
  {
   "cell_type": "markdown",
   "metadata": {},
   "source": [
    "Document loaded and splitted"
   ]
  },
  {
   "cell_type": "code",
   "execution_count": 4,
   "metadata": {},
   "outputs": [],
   "source": [
    "from langchain_community.document_loaders import PyPDFLoader\n",
    "\n",
    "loader = PyPDFLoader(\"./paper-crash-detection.pdf\")\n",
    "pages = loader.load_and_split()"
   ]
  },
  {
   "cell_type": "code",
   "execution_count": 51,
   "metadata": {},
   "outputs": [],
   "source": [
    "# pages"
   ]
  },
  {
   "cell_type": "markdown",
   "metadata": {},
   "source": [
    "creating prompt for LLM"
   ]
  },
  {
   "cell_type": "code",
   "execution_count": 22,
   "metadata": {},
   "outputs": [
    {
     "name": "stdout",
     "output_type": "stream",
     "text": [
      "\n",
      "Answer the questions based on the context below. If you cannot answer the question given, just reply I don't know\n",
      "\n",
      "Context: \n",
      "Question: \n",
      "\n",
      "\n"
     ]
    }
   ],
   "source": [
    "from langchain.prompts import PromptTemplate\n",
    "\n",
    "template = \"\"\"\n",
    "Answer the questions based on the context below. If you cannot answer the question given, just reply I don't know\n",
    "\n",
    "Context: {context}\n",
    "Question: {question}\n",
    "\n",
    "\"\"\"\n",
    "\n",
    "prompt = PromptTemplate.from_template(template)\n",
    "print(prompt.format(context=\"\", question=\"\"))"
   ]
  },
  {
   "cell_type": "code",
   "execution_count": 23,
   "metadata": {},
   "outputs": [],
   "source": [
    "from langchain_core.output_parsers import StrOutputParser\n",
    "\n",
    "parser = StrOutputParser()"
   ]
  },
  {
   "cell_type": "markdown",
   "metadata": {},
   "source": [
    "creating a chain "
   ]
  },
  {
   "cell_type": "code",
   "execution_count": 24,
   "metadata": {},
   "outputs": [],
   "source": [
    "chain = prompt | model | parser"
   ]
  },
  {
   "cell_type": "code",
   "execution_count": 25,
   "metadata": {},
   "outputs": [
    {
     "data": {
      "text/plain": [
       "'The country name in Nepal is \"Nepal\".'"
      ]
     },
     "execution_count": 25,
     "metadata": {},
     "output_type": "execute_result"
    }
   ],
   "source": [
    "chain.invoke(\n",
    "    {\n",
    "        \"context\":\"nepal\", \n",
    "        \"question\":\"what is the country name\"\n",
    "    }\n",
    ")"
   ]
  },
  {
   "cell_type": "markdown",
   "metadata": {},
   "source": [
    "storing embeddings in vectorestores"
   ]
  },
  {
   "cell_type": "code",
   "execution_count": 26,
   "metadata": {},
   "outputs": [],
   "source": [
    "from langchain_community.vectorstores import DocArrayInMemorySearch\n",
    "\n",
    "vectorstore = DocArrayInMemorySearch.from_documents(\n",
    "    pages, \n",
    "    embeddings\n",
    ")"
   ]
  },
  {
   "cell_type": "markdown",
   "metadata": {},
   "source": [
    "creating retreiver"
   ]
  },
  {
   "cell_type": "code",
   "execution_count": 28,
   "metadata": {},
   "outputs": [],
   "source": [
    "retreiver = vectorstore.as_retriever()"
   ]
  },
  {
   "cell_type": "code",
   "execution_count": 29,
   "metadata": {},
   "outputs": [
    {
     "data": {
      "text/plain": [
       "[Document(metadata={'producer': 'Microsoft® Word 2019', 'creator': 'Microsoft® Word 2019', 'creationdate': '2024-04-30T11:04:15+05:30', 'author': 'Microsoft account', 'moddate': '2024-04-30T11:04:15+05:30', 'source': './paper-crash-detection.pdf', 'total_pages': 13, 'page': 5, 'page_label': '6'}, page_content=\"Nabaraj Subedi, Nirajan Paudel, Manish Chhetri, Sudarshan Acharya, Nabin Lamichhane  \\nJournal of IoT in Social, Mobile, Analytics, and Cloud, March 2024, Volume 6, Issue 1 59 \\n \\nFigure 3. Crash Detection Flow Chart \\n3.3 Components Used \\na.   Arduino UNO  \\nThe Arduino Uno, built around the ATmega328P microcontroller, receives velocity and \\ntilt values from the accelerometer [7]. It verifies if these values meet predefined conditions \\nbefore proceeding with further operations. \\nb.   MPU 6050 \\nIn this study, a 10 DOF IMU Sensor, capable of measuring 3 -axis accelerometer data, \\nis utilized to detect changes in a vehicle's orientation, indicative of potential accidents. To \\ncalculate velocity and prevent accidents, the acceleration -time relationship is  leveraged, \\nenabling accurate velocity estimation based on acceleration values over time\"),\n",
       " Document(metadata={'producer': 'Microsoft® Word 2019', 'creator': 'Microsoft® Word 2019', 'creationdate': '2024-04-30T11:04:15+05:30', 'author': 'Microsoft account', 'moddate': '2024-04-30T11:04:15+05:30', 'source': './paper-crash-detection.pdf', 'total_pages': 13, 'page': 0, 'page_label': '1'}, page_content=\"Journal of IoT in Social, Mobile, Analytics, and Cloud (ISSN: 2582-1369)  \\nwww.irojournals.com/iroismac/    \\nJournal of IoT in Social, Mobile, Analytics, and Cloud, March 2024, Volume 6, Issue 1, Pages 54-66 54 \\nDOI: https://doi.org/10.36548/jismac.2024.1.005 \\nReceived: 05.03.2024, received in revised form: 06.04.2024, accepted: 18.04.2024, published: 30.04.2024 \\n© 2024 Inventive Research Organization. This is an open access article under the Creative Commons Attribution-NonCommercial International (CC BY-NC 4.0) License \\nDrowsiness and Crash Detection Mobile \\nApplication for Vehicle’s Safety \\nNabaraj Subedi1, Nirajan Paudel2, Manish Chhetri3, Sudarshan \\nAcharya4, Nabin Lamichhane5 \\nElectronics and Computer Department, Paschimanchal Campus, TU, Pokhara, Nepal  \\nE-mail: 1subedinabaraj46@gmail.com, 2nirajanpaudel33@gmail.com, 3hsinam12man34@gmail.com, \\n4avilashisudarshan@gmail.com, 5babunabin@gmail.com \\nAbstract \\nDetecting road accidents promptly is crucial for minimizing casualties and property \\ndamage worldwide. The proposed system, comprising hardware and a mobile application, \\nautomatically identifies and reports accidents to emergency services. It also employs a  facial \\nrecognition system to detect driver drowsiness, enhancing accident prevention measures. By \\nleveraging sensor technologies, cellular networks, and advanced detection algorithms, the \\nproposed system analyzes data from accelerometers, Global System fo r Mobile \\nCommunication (GSM), and Global Positioning System (GPS) sensors. Originally designed \\nfor vehicles, it can be easily adapted for deployment in various settings such as factories and \\nconstruction sites with minor adjustments. The system continuously monitors the driver's facial \\nexpressions and activities using sensors. When drowsiness is detected, it activates a buzzer, \\nand in the event of a crash, it alerts the driver to prevent false alarms while simultaneously \\nnotifying the rescue center if a genuine crash has occurred. This integrated approach enhances \\nsafety and optimizes emergency response efforts. The Arduino microcontroller, equipped with \\nan accelerometer, identifies sudden changes in motion like acceleration and rotation to assess \\nimpacts against predefined thresholds. Furthermore, GPS functionality accurately determines \\nthe vehicle's location at the time of the accident, while GSM enables seamless communication \\nwith rescue centers through notifications. \\nKeywords: Accelerometer, Arduino, Crash Detection, Drowsiness, GPS, GSM\"),\n",
       " Document(metadata={'producer': 'Microsoft® Word 2019', 'creator': 'Microsoft® Word 2019', 'creationdate': '2024-04-30T11:04:15+05:30', 'author': 'Microsoft account', 'moddate': '2024-04-30T11:04:15+05:30', 'source': './paper-crash-detection.pdf', 'total_pages': 13, 'page': 7, 'page_label': '8'}, page_content=\"Nabaraj Subedi, Nirajan Paudel, Manish Chhetri, Sudarshan Acharya, Nabin Lamichhane  \\nJournal of IoT in Social, Mobile, Analytics, and Cloud, March 2024, Volume 6, Issue 1 61 \\n     Figure 5. Sample GPS Data \\ne.     LM2596 DC-DC Buck Converter Step-Down Power  \\nThe LM2596 DC-DC Buck Converter is utilized in crash detection systems to regulate \\nand step down the voltage from a power source, ensuring stable and appropriate voltage levels \\nfor the electronic components involved in the system. It helps maintain the rel iability and \\nefficiency of the crash detection system. \\n Result and Discussion \\nThe crash detection system was implemented and subjected to testing, employing a \\ncombination of hardware and software as shown in Fig ure 6 and Fig ure 7. The primary aim \\nwas to accurately identify various crash events and promptly notify for emergency response. \\nIn this section, we outline the results of the system's performance evaluation and discuss their \\nimplications. \\n \\n           Figure 6. Final Prototype of Crash Detection System\"),\n",
       " Document(metadata={'producer': 'Microsoft® Word 2019', 'creator': 'Microsoft® Word 2019', 'creationdate': '2024-04-30T11:04:15+05:30', 'author': 'Microsoft account', 'moddate': '2024-04-30T11:04:15+05:30', 'source': './paper-crash-detection.pdf', 'total_pages': 13, 'page': 12, 'page_label': '13'}, page_content='Drowsiness and Crash Detection Mobile Application for Vehicle’s Safety  \\nISSN: 2582-1369  66 \\nManish Chhetri  - I am an engineering student pursuing Electronics, \\ncommunication and Information engineering from 2019 AD and expect to \\ngraduate in 2024 AD. Throughout the studies, I have developed passion \\nin the field of AI and Machine Learning. \\n \\nSudarshan Acharya, I am an engineering student pursuing Electronics, \\ncommunication and Information engineering from 2019 AD and expect \\nto graduate in 2024 AD. Throughout the studies, I have developed passion \\nin the field of Web Development and Machine Learning. \\n \\n \\nNabin Lamichhhane, Deputy Head of Department of Electronics and \\nComputer Engineering, IOE, TU, Nepal')]"
      ]
     },
     "execution_count": 29,
     "metadata": {},
     "output_type": "execute_result"
    }
   ],
   "source": [
    "retreiver.invoke(\"GPS module\")"
   ]
  },
  {
   "cell_type": "code",
   "execution_count": null,
   "metadata": {},
   "outputs": [],
   "source": [
    "from operator import itemgetter\n",
    "\n",
    "chain = (\n",
    "    {\n",
    "        \"context\": itemgetter(\"question\") | retreiver,\n",
    "        \"question\": itemgetter(\"question\")\n",
    "    }\n",
    "    | prompt\n",
    "    | model\n",
    "    | parser\n",
    ")"
   ]
  },
  {
   "cell_type": "code",
   "execution_count": 33,
   "metadata": {},
   "outputs": [],
   "source": [
    "response=chain.invoke({\"question\":\"who are the authors of this academic paper?\"})"
   ]
  },
  {
   "cell_type": "code",
   "execution_count": 34,
   "metadata": {},
   "outputs": [
    {
     "name": "stdout",
     "output_type": "stream",
     "text": [
      "The authors of this academic paper are:\n",
      "\n",
      "1. Nabaraj Subedi\n",
      "2. Nirajan Paudel\n",
      "3. Manish Chhetri\n",
      "4. Sudarshan Acharya\n",
      "5. Nabin Lamichhane\n"
     ]
    }
   ],
   "source": [
    "print(response)"
   ]
  },
  {
   "cell_type": "code",
   "execution_count": 37,
   "metadata": {},
   "outputs": [
    {
     "name": "stdout",
     "output_type": "stream",
     "text": [
      "The authors of this academic paper are:\n",
      "\n",
      "1. Nabaraj Subedi\n",
      "2. Nirajan Paudel\n",
      "3. Manish Chhetri\n",
      "4. Sudarshan Acharya\n",
      "5. Nabin Lamichhane"
     ]
    }
   ],
   "source": [
    "# to stream the answers \n",
    "\n",
    "for s in chain.stream({\"question\":\"who are the authors of this academic paper?\"}):\n",
    "    print(s, end=\"\", flush=True)"
   ]
  },
  {
   "cell_type": "code",
   "execution_count": null,
   "metadata": {},
   "outputs": [],
   "source": []
  },
  {
   "cell_type": "code",
   "execution_count": null,
   "metadata": {},
   "outputs": [],
   "source": []
  },
  {
   "cell_type": "code",
   "execution_count": null,
   "metadata": {},
   "outputs": [],
   "source": []
  },
  {
   "cell_type": "code",
   "execution_count": null,
   "metadata": {},
   "outputs": [],
   "source": []
  },
  {
   "cell_type": "code",
   "execution_count": null,
   "metadata": {},
   "outputs": [],
   "source": []
  },
  {
   "cell_type": "code",
   "execution_count": null,
   "metadata": {},
   "outputs": [],
   "source": []
  },
  {
   "cell_type": "code",
   "execution_count": null,
   "metadata": {},
   "outputs": [],
   "source": []
  },
  {
   "cell_type": "code",
   "execution_count": null,
   "metadata": {},
   "outputs": [],
   "source": []
  }
 ],
 "metadata": {
  "kernelspec": {
   "display_name": "learn_crew",
   "language": "python",
   "name": "python3"
  },
  "language_info": {
   "codemirror_mode": {
    "name": "ipython",
    "version": 3
   },
   "file_extension": ".py",
   "mimetype": "text/x-python",
   "name": "python",
   "nbconvert_exporter": "python",
   "pygments_lexer": "ipython3",
   "version": "3.10.13"
  }
 },
 "nbformat": 4,
 "nbformat_minor": 2
}
